{
 "cells": [
  {
   "cell_type": "code",
   "execution_count": 1,
   "id": "04492182",
   "metadata": {},
   "outputs": [],
   "source": [
    "import pandas as pd \n",
    "import numpy as np\n",
    "import matplotlib.pyplot as plt \n",
    "import seaborn as sns\n",
    "import pickle\n",
    "import xgboost as xgb\n",
    "from sklearn.preprocessing import StandardScaler\n",
    "from sklearn.decomposition import PCA\n",
    "from sklearn.feature_selection import RFE\n",
    "from sklearn.linear_model import LogisticRegression\n",
    "from sklearn.feature_selection import SelectKBest, chi2\n",
    "from sklearn.model_selection import train_test_split\n",
    "from sklearn.tree import DecisionTreeClassifier\n",
    "from sklearn.ensemble import RandomForestClassifier\n",
    "from sklearn.svm import SVC\n",
    "from sklearn.metrics import classification_report, accuracy_score,confusion_matrix\n",
    "from sklearn.cluster import KMeans, AgglomerativeClustering\n",
    "from scipy.cluster.hierarchy import dendrogram, linkage\n",
    "from sklearn.pipeline import Pipeline\n",
    "from sklearn.model_selection import RandomizedSearchCV, StratifiedKFold\n",
    "from scipy.stats import uniform\n"
   ]
  },
  {
   "cell_type": "code",
   "execution_count": 2,
   "id": "1e572bdb",
   "metadata": {},
   "outputs": [],
   "source": [
    "from ucimlrepo import fetch_ucirepo \n",
    "  \n",
    "\n",
    "heart_disease = fetch_ucirepo(id=45) \n",
    "\n",
    "df = heart_disease.data.original\n"
   ]
  },
  {
   "cell_type": "code",
   "execution_count": 3,
   "id": "b81667c4",
   "metadata": {},
   "outputs": [
    {
     "name": "stderr",
     "output_type": "stream",
     "text": [
      "C:\\Users\\PC\\AppData\\Local\\Temp\\ipykernel_15124\\4267255269.py:2: FutureWarning: errors='ignore' is deprecated and will raise in a future version. Use to_numeric without passing `errors` and catch exceptions explicitly instead\n",
      "  df[col] = pd.to_numeric(df[col], errors='ignore')\n"
     ]
    }
   ],
   "source": [
    "\n",
    "for col in df.columns:\n",
    "    df[col] = pd.to_numeric(df[col], errors='ignore')"
   ]
  },
  {
   "cell_type": "code",
   "execution_count": 4,
   "id": "b23e24e5",
   "metadata": {},
   "outputs": [
    {
     "data": {
      "text/plain": [
       "age         0\n",
       "sex         0\n",
       "cp          0\n",
       "trestbps    0\n",
       "chol        0\n",
       "fbs         0\n",
       "restecg     0\n",
       "thalach     0\n",
       "exang       0\n",
       "oldpeak     0\n",
       "slope       0\n",
       "ca          4\n",
       "thal        2\n",
       "num         0\n",
       "dtype: int64"
      ]
     },
     "execution_count": 4,
     "metadata": {},
     "output_type": "execute_result"
    }
   ],
   "source": [
    "df.isna().sum()"
   ]
  },
  {
   "cell_type": "markdown",
   "id": "34658e92",
   "metadata": {},
   "source": [
    "---------------------------------------------------------------------------------------------------------------------------------------------------------------------"
   ]
  },
  {
   "cell_type": "markdown",
   "id": "28943775",
   "metadata": {},
   "source": [
    "# EDA "
   ]
  },
  {
   "cell_type": "markdown",
   "id": "d34fae65",
   "metadata": {},
   "source": [
    "### age column"
   ]
  },
  {
   "cell_type": "code",
   "execution_count": 5,
   "id": "90839de1",
   "metadata": {},
   "outputs": [
    {
     "data": {
      "text/plain": [
       "np.int64(0)"
      ]
     },
     "execution_count": 5,
     "metadata": {},
     "output_type": "execute_result"
    }
   ],
   "source": [
    "df['age'].value_counts().isna().sum()"
   ]
  },
  {
   "cell_type": "code",
   "execution_count": 6,
   "id": "dd54389c",
   "metadata": {},
   "outputs": [
    {
     "data": {
      "text/plain": [
       "0      63\n",
       "1      67\n",
       "2      67\n",
       "3      37\n",
       "4      41\n",
       "       ..\n",
       "298    45\n",
       "299    68\n",
       "300    57\n",
       "301    57\n",
       "302    38\n",
       "Name: age, Length: 303, dtype: int64"
      ]
     },
     "execution_count": 6,
     "metadata": {},
     "output_type": "execute_result"
    }
   ],
   "source": [
    "df['age'].astype(np.int64)"
   ]
  },
  {
   "cell_type": "code",
   "execution_count": 7,
   "id": "6c5a75d9",
   "metadata": {},
   "outputs": [
    {
     "data": {
      "text/plain": [
       "count    303.000000\n",
       "mean      54.438944\n",
       "std        9.038662\n",
       "min       29.000000\n",
       "25%       48.000000\n",
       "50%       56.000000\n",
       "75%       61.000000\n",
       "max       77.000000\n",
       "Name: age, dtype: float64"
      ]
     },
     "execution_count": 7,
     "metadata": {},
     "output_type": "execute_result"
    }
   ],
   "source": [
    "df['age'].describe()"
   ]
  },
  {
   "cell_type": "code",
   "execution_count": 8,
   "id": "c6def206",
   "metadata": {},
   "outputs": [
    {
     "data": {
      "text/plain": [
       "0      63\n",
       "1      67\n",
       "2      67\n",
       "3      37\n",
       "4      41\n",
       "       ..\n",
       "298    45\n",
       "299    68\n",
       "300    57\n",
       "301    57\n",
       "302    38\n",
       "Name: age, Length: 303, dtype: int64"
      ]
     },
     "execution_count": 8,
     "metadata": {},
     "output_type": "execute_result"
    }
   ],
   "source": [
    "df[\"age\"].astype(int)"
   ]
  },
  {
   "cell_type": "code",
   "execution_count": 9,
   "id": "fd67fdd7",
   "metadata": {},
   "outputs": [
    {
     "data": {
      "image/png": "[encoded data removed]",
      "text/plain": [
       "<Figure size 640x480 with 1 Axes>"
      ]
     },
     "metadata": {},
     "output_type": "display_data"
    }
   ],
   "source": [
    "plt.hist(df['age'], bins=10, edgecolor='black')\n",
    "plt.title('Age Distribution')\n",
    "plt.xlabel('Age')\n",
    "plt.ylabel('Frequency')\n",
    "plt.show()\n"
   ]
  },
  {
   "cell_type": "markdown",
   "id": "26e0ba11",
   "metadata": {},
   "source": [
    "### sex column"
   ]
  },
  {
   "cell_type": "code",
   "execution_count": 10,
   "id": "5bf84fbe",
   "metadata": {},
   "outputs": [
    {
     "data": {
      "text/plain": [
       "np.int64(0)"
      ]
     },
     "execution_count": 10,
     "metadata": {},
     "output_type": "execute_result"
    }
   ],
   "source": [
    "df['sex'].value_counts().isna().sum()   "
   ]
  },
  {
   "cell_type": "code",
   "execution_count": 11,
   "id": "a2fbffb4",
   "metadata": {},
   "outputs": [
    {
     "data": {
      "text/plain": [
       "0      1\n",
       "1      1\n",
       "2      1\n",
       "3      1\n",
       "4      0\n",
       "      ..\n",
       "298    1\n",
       "299    1\n",
       "300    1\n",
       "301    0\n",
       "302    1\n",
       "Name: sex, Length: 303, dtype: int64"
      ]
     },
     "execution_count": 11,
     "metadata": {},
     "output_type": "execute_result"
    }
   ],
   "source": [
    "df['sex'].astype(np.int64)"
   ]
  },
  {
   "cell_type": "code",
   "execution_count": 12,
   "id": "f7c1b781",
   "metadata": {},
   "outputs": [
    {
     "data": {
      "text/plain": [
       "count    303.000000\n",
       "mean       0.679868\n",
       "std        0.467299\n",
       "min        0.000000\n",
       "25%        0.000000\n",
       "50%        1.000000\n",
       "75%        1.000000\n",
       "max        1.000000\n",
       "Name: sex, dtype: float64"
      ]
     },
     "execution_count": 12,
     "metadata": {},
     "output_type": "execute_result"
    }
   ],
   "source": [
    "df['sex'].describe()"
   ]
  },
  {
   "cell_type": "code",
   "execution_count": 13,
   "id": "601cb92c",
   "metadata": {},
   "outputs": [
    {
     "data": {
      "image/png": "[encoded data removed]",
      "text/plain": [
       "<Figure size 640x480 with 1 Axes>"
      ]
     },
     "metadata": {},
     "output_type": "display_data"
    }
   ],
   "source": [
    "plt.bar(df['sex'].value_counts().index, df['sex'].value_counts().values)\n",
    "plt.title('Sex Distribution')\n",
    "plt.xlabel('Sex')\n",
    "plt.ylabel('Frequency')\n",
    "plt.show()"
   ]
  },
  {
   "cell_type": "markdown",
   "id": "938eb381",
   "metadata": {},
   "source": [
    "### cp (chest pain type) column\n"
   ]
  },
  {
   "cell_type": "code",
   "execution_count": 14,
   "id": "51d805c2",
   "metadata": {},
   "outputs": [
    {
     "data": {
      "text/plain": [
       "np.int64(0)"
      ]
     },
     "execution_count": 14,
     "metadata": {},
     "output_type": "execute_result"
    }
   ],
   "source": [
    "df['cp'].value_counts().isna().sum()    "
   ]
  },
  {
   "cell_type": "code",
   "execution_count": 15,
   "id": "2436f07e",
   "metadata": {},
   "outputs": [
    {
     "data": {
      "text/plain": [
       "cp\n",
       "4    144\n",
       "3     86\n",
       "2     50\n",
       "1     23\n",
       "Name: count, dtype: int64"
      ]
     },
     "execution_count": 15,
     "metadata": {},
     "output_type": "execute_result"
    }
   ],
   "source": [
    "df['cp'].value_counts()"
   ]
  },
  {
   "cell_type": "code",
   "execution_count": 16,
   "id": "c3bacec6",
   "metadata": {},
   "outputs": [
    {
     "data": {
      "text/plain": [
       "0      1\n",
       "1      4\n",
       "2      4\n",
       "3      3\n",
       "4      2\n",
       "      ..\n",
       "298    1\n",
       "299    4\n",
       "300    4\n",
       "301    2\n",
       "302    3\n",
       "Name: cp, Length: 303, dtype: int64"
      ]
     },
     "execution_count": 16,
     "metadata": {},
     "output_type": "execute_result"
    }
   ],
   "source": [
    "df['cp'].astype(np.int64)"
   ]
  },
  {
   "cell_type": "code",
   "execution_count": 17,
   "id": "0dfd2df5",
   "metadata": {},
   "outputs": [
    {
     "data": {
      "text/plain": [
       "count    303.000000\n",
       "mean       3.158416\n",
       "std        0.960126\n",
       "min        1.000000\n",
       "25%        3.000000\n",
       "50%        3.000000\n",
       "75%        4.000000\n",
       "max        4.000000\n",
       "Name: cp, dtype: float64"
      ]
     },
     "execution_count": 17,
     "metadata": {},
     "output_type": "execute_result"
    }
   ],
   "source": [
    "df['cp'].describe()"
   ]
  },
  {
   "cell_type": "code",
   "execution_count": 18,
   "id": "ea8590fe",
   "metadata": {},
   "outputs": [
    {
     "data": {
      "text/plain": [
       "([<matplotlib.patches.Wedge at 0x25f1c60c550>,\n",
       "  <matplotlib.patches.Wedge at 0x25f1c60dad0>,\n",
       "  <matplotlib.patches.Wedge at 0x25f1c60f490>,\n",
       "  <matplotlib.patches.Wedge at 0x25f1c60ead0>],\n",
       " [Text(0.08545211008447422, 1.096675857709155, '4'),\n",
       "  Text(-0.8151659691308484, -0.7385827257463887, '3'),\n",
       "  Text(0.5986247673245755, -0.9228479766167329, '2'),\n",
       "  Text(1.0688704764987331, -0.2598382274981324, '1')],\n",
       " [Text(0.046610241864258654, 0.5981868314777209, '47.5%'),\n",
       "  Text(-0.44463598316228087, -0.4028633049525756, '28.4%'),\n",
       "  Text(0.3265226003588593, -0.503371623609127, '16.5%'),\n",
       "  Text(0.5830202599083999, -0.14172994227170857, '7.6%')])"
      ]
     },
     "execution_count": 18,
     "metadata": {},
     "output_type": "execute_result"
    },
    {
     "data": {
      "image/png": "[encoded data removed]",
      "text/plain": [
       "<Figure size 640x480 with 1 Axes>"
      ]
     },
     "metadata": {},
     "output_type": "display_data"
    }
   ],
   "source": [
    "plt.pie(df['cp'].value_counts().values, labels=df['cp'].value_counts().index, autopct='%1.1f%%')    "
   ]
  },
  {
   "cell_type": "markdown",
   "id": "db3645a9",
   "metadata": {},
   "source": [
    "        -- Value 1: typical angina\n",
    "        -- Value 2: atypical angina\n",
    "        -- Value 3: non-anginal pain\n",
    "        -- Value 4: asymptomatic\n",
    "        "
   ]
  },
  {
   "cell_type": "markdown",
   "id": "e1568987",
   "metadata": {},
   "source": [
    "### trestbps: resting blood pressure (in mm Hg on admission to the hospital) column"
   ]
  },
  {
   "cell_type": "code",
   "execution_count": 19,
   "id": "c2dff5f8",
   "metadata": {},
   "outputs": [
    {
     "data": {
      "text/plain": [
       "np.int64(0)"
      ]
     },
     "execution_count": 19,
     "metadata": {},
     "output_type": "execute_result"
    }
   ],
   "source": [
    "df['trestbps'].isna().sum()  "
   ]
  },
  {
   "cell_type": "code",
   "execution_count": 20,
   "id": "4efff0ea",
   "metadata": {},
   "outputs": [
    {
     "data": {
      "text/plain": [
       "count    303.000000\n",
       "mean     131.689769\n",
       "std       17.599748\n",
       "min       94.000000\n",
       "25%      120.000000\n",
       "50%      130.000000\n",
       "75%      140.000000\n",
       "max      200.000000\n",
       "Name: trestbps, dtype: float64"
      ]
     },
     "execution_count": 20,
     "metadata": {},
     "output_type": "execute_result"
    }
   ],
   "source": [
    "df['trestbps'].describe()"
   ]
  },
  {
   "cell_type": "code",
   "execution_count": 21,
   "id": "d0f45a03",
   "metadata": {},
   "outputs": [
    {
     "data": {
      "text/plain": [
       "np.int64(0)"
      ]
     },
     "execution_count": 21,
     "metadata": {},
     "output_type": "execute_result"
    }
   ],
   "source": [
    "df['trestbps'].isna().sum()"
   ]
  },
  {
   "cell_type": "code",
   "execution_count": 22,
   "id": "74923bf9",
   "metadata": {},
   "outputs": [
    {
     "data": {
      "text/plain": [
       "{'whiskers': [<matplotlib.lines.Line2D at 0x25f1c654d50>,\n",
       "  <matplotlib.lines.Line2D at 0x25f1c655950>],\n",
       " 'caps': [<matplotlib.lines.Line2D at 0x25f1c656550>,\n",
       "  <matplotlib.lines.Line2D at 0x25f1c6570d0>],\n",
       " 'boxes': [<matplotlib.lines.Line2D at 0x25f1a56c8d0>],\n",
       " 'medians': [<matplotlib.lines.Line2D at 0x25f1c657d10>],\n",
       " 'fliers': [<matplotlib.lines.Line2D at 0x25f1c6648d0>],\n",
       " 'means': []}"
      ]
     },
     "execution_count": 22,
     "metadata": {},
     "output_type": "execute_result"
    },
    {
     "data": {
      "image/png": "[encoded data removed]",
      "text/plain": [
       "<Figure size 640x480 with 1 Axes>"
      ]
     },
     "metadata": {},
     "output_type": "display_data"
    }
   ],
   "source": [
    "plt.boxplot(df['trestbps'])"
   ]
  },
  {
   "cell_type": "code",
   "execution_count": 23,
   "id": "cb090391",
   "metadata": {},
   "outputs": [],
   "source": [
    "# Calculate Q1 (25th percentile) and Q3 (75th percentile)\n",
    "Q1 = df['trestbps'].quantile(0.25)\n",
    "Q3 = df['trestbps'].quantile(0.75)\n",
    "\n",
    "# Calculate IQR\n",
    "IQR = Q3 - Q1\n",
    "\n",
    "# Calculate upper and lower bounds\n",
    "lower_limit = Q1 - 1.5 * IQR\n",
    "upper_limit = Q3 + 1.5 * IQR\n",
    "\n",
    "# Replace outliers with upper or lower limit (capping)\n",
    "df['trestbps'] = np.where(df['trestbps'] > upper_limit, upper_limit,\n",
    "                         np.where(df['trestbps'] < lower_limit, lower_limit, df['trestbps']))\n"
   ]
  },
  {
   "cell_type": "code",
   "execution_count": 24,
   "id": "0b670529",
   "metadata": {},
   "outputs": [
    {
     "data": {
      "text/plain": [
       "(array([ 7., 13., 32., 56., 63., 34., 44., 25., 14., 15.]),\n",
       " array([ 94. , 101.6, 109.2, 116.8, 124.4, 132. , 139.6, 147.2, 154.8,\n",
       "        162.4, 170. ]),\n",
       " <BarContainer object of 10 artists>)"
      ]
     },
     "execution_count": 24,
     "metadata": {},
     "output_type": "execute_result"
    },
    {
     "data": {
      "image/png": "[encoded data removed]",
      "text/plain": [
       "<Figure size 640x480 with 1 Axes>"
      ]
     },
     "metadata": {},
     "output_type": "display_data"
    }
   ],
   "source": [
    "plt.hist(df['trestbps'], bins=10, edgecolor='black')"
   ]
  },
  {
   "cell_type": "markdown",
   "id": "27840796",
   "metadata": {},
   "source": [
    "### chol (serum cholestoral in mg/dl) column"
   ]
  },
  {
   "cell_type": "code",
   "execution_count": 26,
   "id": "2807ad15",
   "metadata": {},
   "outputs": [
    {
     "data": {
      "text/plain": [
       "count    303.000000\n",
       "mean     246.693069\n",
       "std       51.776918\n",
       "min      126.000000\n",
       "25%      211.000000\n",
       "50%      241.000000\n",
       "75%      275.000000\n",
       "max      564.000000\n",
       "Name: chol, dtype: float64"
      ]
     },
     "execution_count": 26,
     "metadata": {},
     "output_type": "execute_result"
    }
   ],
   "source": [
    "df['chol'].describe()"
   ]
  },
  {
   "cell_type": "code",
   "execution_count": 27,
   "id": "d7f19217",
   "metadata": {},
   "outputs": [
    {
     "data": {
      "text/plain": [
       "{'whiskers': [<matplotlib.lines.Line2D at 0x25f1c737a10>,\n",
       "  <matplotlib.lines.Line2D at 0x25f1c744390>],\n",
       " 'caps': [<matplotlib.lines.Line2D at 0x25f1c744d10>,\n",
       "  <matplotlib.lines.Line2D at 0x25f1c7456d0>],\n",
       " 'boxes': [<matplotlib.lines.Line2D at 0x25f1c61bb50>],\n",
       " 'medians': [<matplotlib.lines.Line2D at 0x25f1c7460d0>],\n",
       " 'fliers': [<matplotlib.lines.Line2D at 0x25f1c746a10>],\n",
       " 'means': []}"
      ]
     },
     "execution_count": 27,
     "metadata": {},
     "output_type": "execute_result"
    },
    {
     "data": {
      "image/png": "[encoded data removed]",
      "text/plain": [
       "<Figure size 640x480 with 1 Axes>"
      ]
     },
     "metadata": {},
     "output_type": "display_data"
    }
   ],
   "source": [
    "plt.boxplot(df['chol'])"
   ]
  },
  {
   "cell_type": "code",
   "execution_count": 28,
   "id": "e37fd07a",
   "metadata": {},
   "outputs": [],
   "source": [
    "# Calculate Q1 (25th percentile) and Q3 (75th percentile)\n",
    "Q1 = df['chol'].quantile(0.25)\n",
    "Q3 = df['chol'].quantile(0.75)\n",
    "\n",
    "# Calculate IQR\n",
    "IQR = Q3 - Q1\n",
    "\n",
    "# Calculate upper and lower bounds\n",
    "lower_limit = Q1 - 1.5 * IQR\n",
    "upper_limit = Q3 + 1.5 * IQR\n",
    "\n",
    "# Replace outliers with upper or lower limit (capping)\n",
    "df['chol'] = np.where(df['chol'] > upper_limit, upper_limit,np.where(df['chol'] < lower_limit, lower_limit, df['chol']))\n"
   ]
  },
  {
   "cell_type": "code",
   "execution_count": 29,
   "id": "72115e32",
   "metadata": {},
   "outputs": [
    {
     "data": {
      "text/plain": [
       "(array([ 5.,  9., 35., 56., 65., 51., 33., 29., 12.,  8.]),\n",
       " array([126. , 150.5, 175. , 199.5, 224. , 248.5, 273. , 297.5, 322. ,\n",
       "        346.5, 371. ]),\n",
       " <BarContainer object of 10 artists>)"
      ]
     },
     "execution_count": 29,
     "metadata": {},
     "output_type": "execute_result"
    },
    {
     "data": {
      "image/png": "[encoded data removed]",
      "text/plain": [
       "<Figure size 640x480 with 1 Axes>"
      ]
     },
     "metadata": {},
     "output_type": "display_data"
    }
   ],
   "source": [
    "plt.hist(df['chol'], bins=10, edgecolor='black')"
   ]
  },
  {
   "cell_type": "markdown",
   "id": "7422d5f0",
   "metadata": {},
   "source": [
    "### fbs (fasting blood sugar > 120 mg/dl)  (1 = true; 0 = false) column"
   ]
  },
  {
   "cell_type": "code",
   "execution_count": 30,
   "id": "8c2b741b",
   "metadata": {},
   "outputs": [
    {
     "data": {
      "text/plain": [
       "count    303.000000\n",
       "mean       0.148515\n",
       "std        0.356198\n",
       "min        0.000000\n",
       "25%        0.000000\n",
       "50%        0.000000\n",
       "75%        0.000000\n",
       "max        1.000000\n",
       "Name: fbs, dtype: float64"
      ]
     },
     "execution_count": 30,
     "metadata": {},
     "output_type": "execute_result"
    }
   ],
   "source": [
    "df['fbs'].describe()"
   ]
  },
  {
   "cell_type": "code",
   "execution_count": 31,
   "id": "757ac9c2",
   "metadata": {},
   "outputs": [
    {
     "data": {
      "text/plain": [
       "np.int64(0)"
      ]
     },
     "execution_count": 31,
     "metadata": {},
     "output_type": "execute_result"
    }
   ],
   "source": [
    "df['fbs'].isna().sum()  "
   ]
  },
  {
   "cell_type": "code",
   "execution_count": 32,
   "id": "120c702a",
   "metadata": {},
   "outputs": [
    {
     "data": {
      "text/plain": [
       "fbs\n",
       "0    258\n",
       "1     45\n",
       "Name: count, dtype: int64"
      ]
     },
     "execution_count": 32,
     "metadata": {},
     "output_type": "execute_result"
    }
   ],
   "source": [
    "df['fbs'].value_counts()"
   ]
  },
  {
   "cell_type": "code",
   "execution_count": 33,
   "id": "cba85f62",
   "metadata": {},
   "outputs": [
    {
     "data": {
      "text/plain": [
       "(array([258.,   0.,   0.,   0.,   0.,   0.,   0.,   0.,   0.,  45.]),\n",
       " array([0. , 0.1, 0.2, 0.3, 0.4, 0.5, 0.6, 0.7, 0.8, 0.9, 1. ]),\n",
       " <BarContainer object of 10 artists>)"
      ]
     },
     "execution_count": 33,
     "metadata": {},
     "output_type": "execute_result"
    },
    {
     "data": {
      "image/png": "[encoded data removed]",
      "text/plain": [
       "<Figure size 640x480 with 1 Axes>"
      ]
     },
     "metadata": {},
     "output_type": "display_data"
    }
   ],
   "source": [
    "plt.hist(df['fbs'], bins=10, edgecolor='black')"
   ]
  },
  {
   "cell_type": "markdown",
   "id": "e990665b",
   "metadata": {},
   "source": [
    "### restecg (resting electrocardiographic results) column"
   ]
  },
  {
   "cell_type": "code",
   "execution_count": 34,
   "id": "66b65aa6",
   "metadata": {},
   "outputs": [
    {
     "data": {
      "text/plain": [
       "count    303.000000\n",
       "mean       0.990099\n",
       "std        0.994971\n",
       "min        0.000000\n",
       "25%        0.000000\n",
       "50%        1.000000\n",
       "75%        2.000000\n",
       "max        2.000000\n",
       "Name: restecg, dtype: float64"
      ]
     },
     "execution_count": 34,
     "metadata": {},
     "output_type": "execute_result"
    }
   ],
   "source": [
    "df['restecg'].describe()"
   ]
  },
  {
   "cell_type": "code",
   "execution_count": 35,
   "id": "b993b08b",
   "metadata": {},
   "outputs": [
    {
     "data": {
      "text/plain": [
       "np.int64(0)"
      ]
     },
     "execution_count": 35,
     "metadata": {},
     "output_type": "execute_result"
    }
   ],
   "source": [
    "df['restecg'].isna().sum()"
   ]
  },
  {
   "cell_type": "code",
   "execution_count": 36,
   "id": "5c9c53d9",
   "metadata": {},
   "outputs": [
    {
     "data": {
      "text/plain": [
       "restecg\n",
       "0    151\n",
       "2    148\n",
       "1      4\n",
       "Name: count, dtype: int64"
      ]
     },
     "execution_count": 36,
     "metadata": {},
     "output_type": "execute_result"
    }
   ],
   "source": [
    "df['restecg'].value_counts()"
   ]
  },
  {
   "cell_type": "code",
   "execution_count": 37,
   "id": "2c16b25c",
   "metadata": {},
   "outputs": [
    {
     "data": {
      "text/plain": [
       "([<matplotlib.patches.Wedge at 0x25f1c6dcd10>,\n",
       "  <matplotlib.patches.Wedge at 0x25f1c9d3c10>,\n",
       "  <matplotlib.patches.Wedge at 0x25f1c9e5b10>],\n",
       " [Text(0.005702386188599272, 1.099985219351495, '0'),\n",
       "  Text(-0.051304162259203735, -1.0988029318011858, '2'),\n",
       "  Text(1.0990541422312996, -0.04560693416819738, '1')],\n",
       " [Text(0.0031103924665086932, 0.599991937828088, '49.8%'),\n",
       "  Text(-0.027984088505020217, -0.5993470537097377, '48.8%'),\n",
       "  Text(0.5994840775807089, -0.024876509546289477, '1.3%')])"
      ]
     },
     "execution_count": 37,
     "metadata": {},
     "output_type": "execute_result"
    },
    {
     "data": {
      "image/png": "[encoded data removed]",
      "text/plain": [
       "<Figure size 640x480 with 1 Axes>"
      ]
     },
     "metadata": {},
     "output_type": "display_data"
    }
   ],
   "source": [
    "plt.pie(df['restecg'].value_counts().values, labels=df['restecg'].value_counts().index, autopct='%1.1f%%')    "
   ]
  },
  {
   "cell_type": "markdown",
   "id": "89fcf0eb",
   "metadata": {},
   "source": [
    "        -- Value 0: normal\n",
    "        -- Value 1: having ST-T wave abnormality (T wave inversions and/or ST elevation or depression of > 0.05 mV)\n",
    "        -- Value 2: showing probable or definite left ventricular hypertrophy by Estes' criteria"
   ]
  },
  {
   "cell_type": "markdown",
   "id": "de117a10",
   "metadata": {},
   "source": [
    "### thalach (maximum heart rate achieved) column"
   ]
  },
  {
   "cell_type": "code",
   "execution_count": 38,
   "id": "f55070cc",
   "metadata": {},
   "outputs": [
    {
     "data": {
      "text/plain": [
       "count    303.000000\n",
       "mean     149.607261\n",
       "std       22.875003\n",
       "min       71.000000\n",
       "25%      133.500000\n",
       "50%      153.000000\n",
       "75%      166.000000\n",
       "max      202.000000\n",
       "Name: thalach, dtype: float64"
      ]
     },
     "execution_count": 38,
     "metadata": {},
     "output_type": "execute_result"
    }
   ],
   "source": [
    "df['thalach'].describe()"
   ]
  },
  {
   "cell_type": "code",
   "execution_count": 39,
   "id": "734d5277",
   "metadata": {},
   "outputs": [
    {
     "data": {
      "text/plain": [
       "np.int64(0)"
      ]
     },
     "execution_count": 39,
     "metadata": {},
     "output_type": "execute_result"
    }
   ],
   "source": [
    "df['thalach'].isna().sum()"
   ]
  },
  {
   "cell_type": "code",
   "execution_count": 40,
   "id": "0753c375",
   "metadata": {},
   "outputs": [
    {
     "data": {
      "text/plain": [
       "{'whiskers': [<matplotlib.lines.Line2D at 0x25f1c7da650>,\n",
       "  <matplotlib.lines.Line2D at 0x25f1c7db050>],\n",
       " 'caps': [<matplotlib.lines.Line2D at 0x25f1c7dba50>,\n",
       "  <matplotlib.lines.Line2D at 0x25f1c930150>],\n",
       " 'boxes': [<matplotlib.lines.Line2D at 0x25f1c7d9c10>],\n",
       " 'medians': [<matplotlib.lines.Line2D at 0x25f1c7e8b90>],\n",
       " 'fliers': [<matplotlib.lines.Line2D at 0x25f1c7e9590>],\n",
       " 'means': []}"
      ]
     },
     "execution_count": 40,
     "metadata": {},
     "output_type": "execute_result"
    },
    {
     "data": {
      "image/png": "[encoded data removed]",
      "text/plain": [
       "<Figure size 640x480 with 1 Axes>"
      ]
     },
     "metadata": {},
     "output_type": "display_data"
    }
   ],
   "source": [
    "plt.boxplot(df['thalach'])"
   ]
  },
  {
   "cell_type": "code",
   "execution_count": 41,
   "id": "8ee6deae",
   "metadata": {},
   "outputs": [
    {
     "data": {
      "text/plain": [
       "(array([ 1.,  6., 11., 26., 35., 53., 78., 62., 26.,  5.]),\n",
       " array([ 71. ,  84.1,  97.2, 110.3, 123.4, 136.5, 149.6, 162.7, 175.8,\n",
       "        188.9, 202. ]),\n",
       " <BarContainer object of 10 artists>)"
      ]
     },
     "execution_count": 41,
     "metadata": {},
     "output_type": "execute_result"
    },
    {
     "data": {
      "image/png": "[encoded data removed]",
      "text/plain": [
       "<Figure size 640x480 with 1 Axes>"
      ]
     },
     "metadata": {},
     "output_type": "display_data"
    }
   ],
   "source": [
    "plt.hist(df['thalach'], bins=10, edgecolor='black')"
   ]
  },
  {
   "cell_type": "markdown",
   "id": "e331d35a",
   "metadata": {},
   "source": [
    "### exang ( exercise induced angina (1 = yes; 0 = no) ) column"
   ]
  },
  {
   "cell_type": "code",
   "execution_count": 42,
   "id": "16bd01a1",
   "metadata": {},
   "outputs": [
    {
     "data": {
      "text/plain": [
       "count    303.000000\n",
       "mean       0.326733\n",
       "std        0.469794\n",
       "min        0.000000\n",
       "25%        0.000000\n",
       "50%        0.000000\n",
       "75%        1.000000\n",
       "max        1.000000\n",
       "Name: exang, dtype: float64"
      ]
     },
     "execution_count": 42,
     "metadata": {},
     "output_type": "execute_result"
    }
   ],
   "source": [
    "df['exang'].describe()  "
   ]
  },
  {
   "cell_type": "code",
   "execution_count": 43,
   "id": "95ab73ae",
   "metadata": {},
   "outputs": [
    {
     "data": {
      "text/plain": [
       "np.int64(0)"
      ]
     },
     "execution_count": 43,
     "metadata": {},
     "output_type": "execute_result"
    }
   ],
   "source": [
    "df['exang'].isna().sum()"
   ]
  },
  {
   "cell_type": "code",
   "execution_count": 44,
   "id": "2845701f",
   "metadata": {},
   "outputs": [
    {
     "data": {
      "text/plain": [
       "exang\n",
       "0    204\n",
       "1     99\n",
       "Name: count, dtype: int64"
      ]
     },
     "execution_count": 44,
     "metadata": {},
     "output_type": "execute_result"
    }
   ],
   "source": [
    "df['exang'].value_counts()"
   ]
  },
  {
   "cell_type": "code",
   "execution_count": 45,
   "id": "89307065",
   "metadata": {},
   "outputs": [
    {
     "data": {
      "text/plain": [
       "(array([204.,   0.,   0.,   0.,   0.,   0.,   0.,   0.,   0.,  99.]),\n",
       " array([0. , 0.1, 0.2, 0.3, 0.4, 0.5, 0.6, 0.7, 0.8, 0.9, 1. ]),\n",
       " <BarContainer object of 10 artists>)"
      ]
     },
     "execution_count": 45,
     "metadata": {},
     "output_type": "execute_result"
    },
    {
     "data": {
      "image/png": "[encoded data removed]",
      "text/plain": [
       "<Figure size 640x480 with 1 Axes>"
      ]
     },
     "metadata": {},
     "output_type": "display_data"
    }
   ],
   "source": [
    "plt.hist(df['exang'], bins=10, edgecolor='black') "
   ]
  },
  {
   "cell_type": "markdown",
   "id": "b4612148",
   "metadata": {},
   "source": [
    "### oldpeak (ST depression induced by exercise relative to rest) column "
   ]
  },
  {
   "cell_type": "code",
   "execution_count": 46,
   "id": "06c9cdc3",
   "metadata": {},
   "outputs": [
    {
     "data": {
      "text/plain": [
       "count    303.000000\n",
       "mean       1.039604\n",
       "std        1.161075\n",
       "min        0.000000\n",
       "25%        0.000000\n",
       "50%        0.800000\n",
       "75%        1.600000\n",
       "max        6.200000\n",
       "Name: oldpeak, dtype: float64"
      ]
     },
     "execution_count": 46,
     "metadata": {},
     "output_type": "execute_result"
    }
   ],
   "source": [
    "df['oldpeak'].describe()"
   ]
  },
  {
   "cell_type": "code",
   "execution_count": 47,
   "id": "301d6f04",
   "metadata": {},
   "outputs": [
    {
     "data": {
      "text/plain": [
       "np.int64(0)"
      ]
     },
     "execution_count": 47,
     "metadata": {},
     "output_type": "execute_result"
    }
   ],
   "source": [
    "df['oldpeak'].isna().sum()"
   ]
  },
  {
   "cell_type": "code",
   "execution_count": 48,
   "id": "dc1200cd",
   "metadata": {},
   "outputs": [
    {
     "data": {
      "text/plain": [
       "{'whiskers': [<matplotlib.lines.Line2D at 0x25f1a53dc10>,\n",
       "  <matplotlib.lines.Line2D at 0x25f1c84e290>],\n",
       " 'caps': [<matplotlib.lines.Line2D at 0x25f1a54b890>,\n",
       "  <matplotlib.lines.Line2D at 0x25f1a54a650>],\n",
       " 'boxes': [<matplotlib.lines.Line2D at 0x25f1a53f590>],\n",
       " 'medians': [<matplotlib.lines.Line2D at 0x25f1a549310>],\n",
       " 'fliers': [<matplotlib.lines.Line2D at 0x25f1a5485d0>],\n",
       " 'means': []}"
      ]
     },
     "execution_count": 48,
     "metadata": {},
     "output_type": "execute_result"
    },
    {
     "data": {
      "image/png": "[encoded data removed]",
      "text/plain": [
       "<Figure size 640x480 with 1 Axes>"
      ]
     },
     "metadata": {},
     "output_type": "display_data"
    }
   ],
   "source": [
    "plt.boxplot(df['oldpeak'])"
   ]
  },
  {
   "cell_type": "code",
   "execution_count": 49,
   "id": "197feb99",
   "metadata": {},
   "outputs": [],
   "source": [
    "# Calculate Q1 (25th percentile) and Q3 (75th percentile)\n",
    "Q1 = df['oldpeak'].quantile(0.25)\n",
    "Q3 = df['oldpeak'].quantile(0.75)\n",
    "\n",
    "# Calculate IQR\n",
    "IQR = Q3 - Q1\n",
    "\n",
    "# Calculate upper and lower bounds\n",
    "lower_limit = Q1 - 1.5 * IQR\n",
    "upper_limit = Q3 + 1.5 * IQR\n",
    "\n",
    "# Replace outliers with upper or lower limit (capping)\n",
    "df['oldpeak'] = np.where(df['oldpeak'] > upper_limit, upper_limit,\n",
    "                         np.where(df['oldpeak'] < lower_limit, lower_limit, df['oldpeak']))\n"
   ]
  },
  {
   "cell_type": "code",
   "execution_count": 50,
   "id": "e8cea397",
   "metadata": {},
   "outputs": [
    {
     "data": {
      "text/plain": [
       "(array([121.,  29.,  49.,  19.,  26.,  19.,  14.,   7.,   6.,  13.]),\n",
       " array([0. , 0.4, 0.8, 1.2, 1.6, 2. , 2.4, 2.8, 3.2, 3.6, 4. ]),\n",
       " <BarContainer object of 10 artists>)"
      ]
     },
     "execution_count": 50,
     "metadata": {},
     "output_type": "execute_result"
    },
    {
     "data": {
      "image/png": "[encoded data removed]",
      "text/plain": [
       "<Figure size 640x480 with 1 Axes>"
      ]
     },
     "metadata": {},
     "output_type": "display_data"
    }
   ],
   "source": [
    "plt.hist(df['oldpeak'], bins=10, edgecolor='black')"
   ]
  },
  {
   "cell_type": "markdown",
   "id": "78cff356",
   "metadata": {},
   "source": [
    "### slope (the slope of the peak exercise ST segment) column\n"
   ]
  },
  {
   "cell_type": "code",
   "execution_count": 51,
   "id": "c11ded70",
   "metadata": {},
   "outputs": [
    {
     "data": {
      "text/plain": [
       "count    303.000000\n",
       "mean       1.600660\n",
       "std        0.616226\n",
       "min        1.000000\n",
       "25%        1.000000\n",
       "50%        2.000000\n",
       "75%        2.000000\n",
       "max        3.000000\n",
       "Name: slope, dtype: float64"
      ]
     },
     "execution_count": 51,
     "metadata": {},
     "output_type": "execute_result"
    }
   ],
   "source": [
    "df['slope'].describe()"
   ]
  },
  {
   "cell_type": "code",
   "execution_count": 52,
   "id": "d98cd537",
   "metadata": {},
   "outputs": [
    {
     "data": {
      "text/plain": [
       "np.int64(0)"
      ]
     },
     "execution_count": 52,
     "metadata": {},
     "output_type": "execute_result"
    }
   ],
   "source": [
    "df['slope'].isna().sum()    "
   ]
  },
  {
   "cell_type": "code",
   "execution_count": 53,
   "id": "0f98a54f",
   "metadata": {},
   "outputs": [
    {
     "data": {
      "text/plain": [
       "slope\n",
       "1    142\n",
       "2    140\n",
       "3     21\n",
       "Name: count, dtype: int64"
      ]
     },
     "execution_count": 53,
     "metadata": {},
     "output_type": "execute_result"
    }
   ],
   "source": [
    "df['slope'].value_counts()"
   ]
  },
  {
   "cell_type": "code",
   "execution_count": 54,
   "id": "79ee23a5",
   "metadata": {},
   "outputs": [
    {
     "data": {
      "text/plain": [
       "([<matplotlib.patches.Wedge at 0x25f1cafda50>,\n",
       "  <matplotlib.patches.Wedge at 0x25f1cafe690>,\n",
       "  <matplotlib.patches.Wedge at 0x25f1db20050>],\n",
       " [Text(0.10817354033044684, 1.0946682078019703, '1'),\n",
       "  Text(-0.34208707841634195, -1.0454551309265125, '2'),\n",
       "  Text(1.0740282451082876, -0.23762013532024645, '3')],\n",
       " [Text(0.05900374927115281, 0.5970917497101655, '46.9%'),\n",
       "  Text(-0.18659295186345923, -0.5702482532326432, '46.2%'),\n",
       "  Text(0.585833588240884, -0.12961098290195258, '6.9%')])"
      ]
     },
     "execution_count": 54,
     "metadata": {},
     "output_type": "execute_result"
    },
    {
     "data": {
      "image/png": "[encoded data removed]",
      "text/plain": [
       "<Figure size 640x480 with 1 Axes>"
      ]
     },
     "metadata": {},
     "output_type": "display_data"
    }
   ],
   "source": [
    "plt.pie(df['slope'].value_counts().values, labels=df['slope'].value_counts().index, autopct='%1.1f%%')"
   ]
  },
  {
   "cell_type": "markdown",
   "id": "0c8422a1",
   "metadata": {},
   "source": [
    "### ca (number of major vessels (0-3) colored by flourosopy) column "
   ]
  },
  {
   "cell_type": "code",
   "execution_count": 55,
   "id": "9b8a8781",
   "metadata": {},
   "outputs": [
    {
     "data": {
      "text/plain": [
       "count    299.000000\n",
       "mean       0.672241\n",
       "std        0.937438\n",
       "min        0.000000\n",
       "25%        0.000000\n",
       "50%        0.000000\n",
       "75%        1.000000\n",
       "max        3.000000\n",
       "Name: ca, dtype: float64"
      ]
     },
     "execution_count": 55,
     "metadata": {},
     "output_type": "execute_result"
    }
   ],
   "source": [
    "df['ca'].describe()"
   ]
  },
  {
   "cell_type": "code",
   "execution_count": 56,
   "id": "ce1e8b55",
   "metadata": {},
   "outputs": [
    {
     "data": {
      "text/plain": [
       "np.int64(4)"
      ]
     },
     "execution_count": 56,
     "metadata": {},
     "output_type": "execute_result"
    }
   ],
   "source": [
    "df['ca'].isna().sum()"
   ]
  },
  {
   "cell_type": "code",
   "execution_count": 57,
   "id": "39546408",
   "metadata": {},
   "outputs": [
    {
     "data": {
      "text/plain": [
       "ca\n",
       "0.0    176\n",
       "1.0     65\n",
       "2.0     38\n",
       "3.0     20\n",
       "Name: count, dtype: int64"
      ]
     },
     "execution_count": 57,
     "metadata": {},
     "output_type": "execute_result"
    }
   ],
   "source": [
    "df['ca'].value_counts()"
   ]
  },
  {
   "cell_type": "code",
   "execution_count": 58,
   "id": "029db3b4",
   "metadata": {},
   "outputs": [],
   "source": [
    "df['ca'] = df['ca'].fillna(df['ca'].mode()[0]).astype(np.float64)\n",
    "    "
   ]
  },
  {
   "cell_type": "code",
   "execution_count": 59,
   "id": "f9b5d410",
   "metadata": {},
   "outputs": [
    {
     "data": {
      "text/plain": [
       "([<matplotlib.patches.Wedge at 0x25f1db53310>,\n",
       "  <matplotlib.patches.Wedge at 0x25f1db47a50>,\n",
       "  <matplotlib.patches.Wedge at 0x25f1db62850>,\n",
       "  <matplotlib.patches.Wedge at 0x25f1db61e90>],\n",
       " [Text(-0.32033623561759306, 1.0523234750542962, '0.0'),\n",
       "  Text(-0.331229243419919, -1.0489457508867979, '1.0'),\n",
       "  Text(0.7594621889362801, -0.7957494477384914, '2.0'),\n",
       "  Text(1.0764343071031552, -0.2264711515653824, '3.0')],\n",
       " [Text(-0.1747288557914144, 0.5739946227568888, '59.4%'),\n",
       "  Text(-0.18067049641086488, -0.5721522277564351, '21.5%'),\n",
       "  Text(0.41425210305615273, -0.43404515331190435, '12.5%'),\n",
       "  Text(0.58714598569263, -0.1235297190356631, '6.6%')])"
      ]
     },
     "execution_count": 59,
     "metadata": {},
     "output_type": "execute_result"
    },
    {
     "data": {
      "image/png": "[encoded data removed]",
      "text/plain": [
       "<Figure size 640x480 with 1 Axes>"
      ]
     },
     "metadata": {},
     "output_type": "display_data"
    }
   ],
   "source": [
    "plt.pie(df['ca'].value_counts().values, labels=df['ca'].value_counts().index, autopct='%1.1f%%')"
   ]
  },
  {
   "cell_type": "markdown",
   "id": "451eabe2",
   "metadata": {},
   "source": [
    "### thal  (thal: 3 = normal; 6 = fixed defect; 7 = reversable defect)  column"
   ]
  },
  {
   "cell_type": "code",
   "execution_count": 60,
   "id": "f586bec5",
   "metadata": {},
   "outputs": [
    {
     "data": {
      "text/plain": [
       "count    301.000000\n",
       "mean       4.734219\n",
       "std        1.939706\n",
       "min        3.000000\n",
       "25%        3.000000\n",
       "50%        3.000000\n",
       "75%        7.000000\n",
       "max        7.000000\n",
       "Name: thal, dtype: float64"
      ]
     },
     "execution_count": 60,
     "metadata": {},
     "output_type": "execute_result"
    }
   ],
   "source": [
    "df['thal'].describe()"
   ]
  },
  {
   "cell_type": "code",
   "execution_count": 61,
   "id": "7b453be7",
   "metadata": {},
   "outputs": [
    {
     "data": {
      "text/plain": [
       "np.int64(2)"
      ]
     },
     "execution_count": 61,
     "metadata": {},
     "output_type": "execute_result"
    }
   ],
   "source": [
    "df['thal'].isna().sum()"
   ]
  },
  {
   "cell_type": "code",
   "execution_count": 62,
   "id": "8ea4401a",
   "metadata": {},
   "outputs": [
    {
     "data": {
      "text/plain": [
       "thal\n",
       "3.0    166\n",
       "7.0    117\n",
       "6.0     18\n",
       "Name: count, dtype: int64"
      ]
     },
     "execution_count": 62,
     "metadata": {},
     "output_type": "execute_result"
    }
   ],
   "source": [
    "df['thal'].value_counts()"
   ]
  },
  {
   "cell_type": "code",
   "execution_count": 63,
   "id": "37a8626e",
   "metadata": {},
   "outputs": [],
   "source": [
    "df['thal'] = df['thal'].fillna(df['thal'].mode()[0]).astype(np.float64)\n"
   ]
  },
  {
   "cell_type": "code",
   "execution_count": 64,
   "id": "dfea1816",
   "metadata": {},
   "outputs": [
    {
     "data": {
      "text/plain": [
       "([<matplotlib.patches.Wedge at 0x25f1dba0ed0>,\n",
       "  <matplotlib.patches.Wedge at 0x25f1dba2810>,\n",
       "  <matplotlib.patches.Wedge at 0x25f1ca9ca50>],\n",
       " [Text(-0.18726803036256398, 1.083942196246703, '3.0'),\n",
       "  Text(-0.017107070045787525, -1.0998669683895634, '7.0'),\n",
       "  Text(1.0808988028529034, -0.20410237135114406, '6.0')],\n",
       " [Text(-0.10214619837958035, 0.591241197952747, '55.4%'),\n",
       "  Text(-0.009331129115884103, -0.5999274373033981, '38.6%'),\n",
       "  Text(0.5895811651924927, -0.11132856619153313, '5.9%')])"
      ]
     },
     "execution_count": 64,
     "metadata": {},
     "output_type": "execute_result"
    },
    {
     "data": {
      "image/png": "[encoded data removed]",
      "text/plain": [
       "<Figure size 640x480 with 1 Axes>"
      ]
     },
     "metadata": {},
     "output_type": "display_data"
    }
   ],
   "source": [
    "plt.pie(df['thal'].value_counts().values, labels=df['thal'].value_counts().index, autopct='%1.1f%%')"
   ]
  },
  {
   "cell_type": "code",
   "execution_count": null,
   "id": "0f04ca43",
   "metadata": {},
   "outputs": [],
   "source": []
  }
 ],
 "metadata": {
  "kernelspec": {
   "display_name": "Python 3",
   "language": "python",
   "name": "python3"
  },
  "language_info": {
   "codemirror_mode": {
    "name": "ipython",
    "version": 3
   },
   "file_extension": ".py",
   "mimetype": "text/x-python",
   "name": "python",
   "nbconvert_exporter": "python",
   "pygments_lexer": "ipython3",
   "version": "3.11.2"
  }
 },
 "nbformat": 4,
 "nbformat_minor": 5
}
