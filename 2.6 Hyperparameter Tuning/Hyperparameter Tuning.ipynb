{
 "cells": [
  {
   "cell_type": "code",
   "execution_count": 1,
   "id": "4f24de29",
   "metadata": {},
   "outputs": [],
   "source": [
    "import pandas as pd \n",
    "import numpy as np\n",
    "import matplotlib.pyplot as plt \n",
    "import seaborn as sns\n",
    "import pickle\n",
    "import xgboost as xgb\n",
    "from sklearn.preprocessing import StandardScaler\n",
    "from sklearn.decomposition import PCA\n",
    "from sklearn.feature_selection import RFE\n",
    "from sklearn.linear_model import LogisticRegression\n",
    "from sklearn.feature_selection import SelectKBest, chi2\n",
    "from sklearn.model_selection import train_test_split\n",
    "from sklearn.tree import DecisionTreeClassifier\n",
    "from sklearn.ensemble import RandomForestClassifier\n",
    "from sklearn.svm import SVC\n",
    "from sklearn.metrics import classification_report, accuracy_score,confusion_matrix\n",
    "from sklearn.cluster import KMeans, AgglomerativeClustering\n",
    "from scipy.cluster.hierarchy import dendrogram, linkage\n",
    "from sklearn.pipeline import Pipeline\n",
    "from sklearn.model_selection import RandomizedSearchCV, StratifiedKFold\n",
    "from sklearn.model_selection import GridSearchCV\n",
    "from scipy.stats import uniform\n",
    "from xgboost import XGBClassifier\n",
    "from sklearn.metrics import classification_report, accuracy_score, roc_auc_score, roc_curve\n",
    "from sklearn.metrics import silhouette_score, davies_bouldin_score, calinski_harabasz_score\n"
   ]
  },
  {
   "cell_type": "code",
   "execution_count": 7,
   "id": "c7307c8c",
   "metadata": {},
   "outputs": [],
   "source": [
    "df = pd.read_csv(\"cleaned_heart_disease_data.csv\")\n",
    "X = df.drop(columns=['num'])\n",
    "df['num'] = np.where(df['num']>0,1,0)\n",
    "y = df['num']"
   ]
  },
  {
   "cell_type": "code",
   "execution_count": 8,
   "id": "af80255a",
   "metadata": {},
   "outputs": [],
   "source": [
    "X = df.drop(columns=['num','chol','trestbps'])"
   ]
  },
  {
   "cell_type": "code",
   "execution_count": 9,
   "id": "91042831",
   "metadata": {},
   "outputs": [],
   "source": [
    "X_train, X_test, y_train, y_test = train_test_split(X, y, test_size=0.2, random_state=42)"
   ]
  },
  {
   "cell_type": "code",
   "execution_count": 10,
   "id": "b94ced28",
   "metadata": {},
   "outputs": [],
   "source": [
    "scaler = StandardScaler()\n",
    "X_train_scaled = scaler.fit_transform(X_train)\n",
    "X_test_scaled = scaler.transform(X_test)"
   ]
  },
  {
   "cell_type": "markdown",
   "id": "85d0feb0",
   "metadata": {},
   "source": [
    "### GridSearchCV hyperparameter tuning"
   ]
  },
  {
   "cell_type": "code",
   "execution_count": 14,
   "id": "7ff1a9e4",
   "metadata": {},
   "outputs": [
    {
     "name": "stdout",
     "output_type": "stream",
     "text": [
      "Baseline SVM Accuracy: 0.9344\n",
      "Best parameters found:\n",
      "classifier__C: 1\n",
      "classifier__gamma: scale\n",
      "classifier__kernel: rbf\n",
      "\n",
      "Test Score (GridSearch) = 0.9344\n"
     ]
    },
    {
     "data": {
      "image/png": "[encoded data removed]",
      "text/plain": [
       "<Figure size 600x500 with 2 Axes>"
      ]
     },
     "metadata": {},
     "output_type": "display_data"
    },
    {
     "name": "stdout",
     "output_type": "stream",
     "text": [
      "              precision    recall  f1-score   support\n",
      "\n",
      "           0       0.90      0.97      0.93        29\n",
      "           1       0.97      0.91      0.94        32\n",
      "\n",
      "    accuracy                           0.93        61\n",
      "   macro avg       0.93      0.94      0.93        61\n",
      "weighted avg       0.94      0.93      0.93        61\n",
      "\n",
      "\n",
      "Final model saved as Models/final_model.pkl\n"
     ]
    }
   ],
   "source": [
    "import matplotlib.pyplot as plt\n",
    "import pickle\n",
    "import pandas as pd\n",
    "import seaborn as sns\n",
    "\n",
    "from sklearn.model_selection import train_test_split, GridSearchCV, StratifiedKFold\n",
    "from sklearn.preprocessing import StandardScaler\n",
    "from sklearn.svm import SVC\n",
    "from sklearn.pipeline import Pipeline\n",
    "from sklearn.metrics import confusion_matrix, classification_report, accuracy_score\n",
    "\n",
    "seed = 42\n",
    "\n",
    "# Scale the data for baseline SVM\n",
    "scaler = StandardScaler()\n",
    "X_train_scaled = scaler.fit_transform(X_train)\n",
    "X_test_scaled = scaler.transform(X_test)\n",
    "\n",
    "# =========================\n",
    "# Baseline SVM (with scaling, no tuning)\n",
    "# =========================\n",
    "baseline_svm = SVC(random_state=seed, probability=True)\n",
    "baseline_svm.fit(X_train_scaled, y_train)\n",
    "\n",
    "y_pred_baseline = baseline_svm.predict(X_test_scaled)\n",
    "baseline_acc = accuracy_score(y_test, y_pred_baseline)\n",
    "print(f\"Baseline SVM Accuracy: {baseline_acc:.4f}\")\n",
    "\n",
    "# =========================\n",
    "# Tuned SVM + GridSearchCV\n",
    "# =========================\n",
    "pipeCv = Pipeline([\n",
    "    ('scaler', StandardScaler()),\n",
    "    ('classifier', SVC(probability=True, random_state=seed))\n",
    "])\n",
    "\n",
    "params = {\n",
    "    'classifier__C': [0.1, 1, 10],\n",
    "    'classifier__kernel': ['linear', 'rbf'],\n",
    "    'classifier__gamma': ['scale', 'auto']\n",
    "}\n",
    "\n",
    "cv = StratifiedKFold(n_splits=5, shuffle=True, random_state=seed)\n",
    "\n",
    "best_model = GridSearchCV(\n",
    "    estimator=pipeCv,\n",
    "    param_grid=params,\n",
    "    scoring='accuracy',\n",
    "    cv=cv,\n",
    "    verbose=0,\n",
    "    n_jobs=-1,\n",
    "    refit=True\n",
    ")\n",
    "\n",
    "best_model.fit(X_train, y_train)\n",
    "\n",
    "# Predict and evaluate tuned model\n",
    "y_pred = best_model.predict(X_test)\n",
    "test_score = best_model.score(X_test, y_test)\n",
    "\n",
    "print(\"Best parameters found:\")\n",
    "for key, value in best_model.best_params_.items():\n",
    "    print(f\"{key}: {value}\")\n",
    "print(f\"\\nTest Score (GridSearch) = {test_score:.4f}\")\n",
    "\n",
    "# Confusion matrix visualization\n",
    "conf_matrix = confusion_matrix(y_test, y_pred)\n",
    "plt.figure(figsize=(6, 5))\n",
    "sns.heatmap(conf_matrix, annot=True, cmap=\"Blues\", fmt=\"d\")\n",
    "plt.title(\"Confusion Matrix of Tuned SVM\")\n",
    "plt.xlabel(\"Predicted\")\n",
    "plt.ylabel(\"Actual\")\n",
    "plt.tight_layout()\n",
    "plt.show()\n",
    "\n",
    "# Classification report\n",
    "print(classification_report(y_test, y_pred))\n",
    "\n",
    "# =========================\n",
    "# Save final tuned model\n",
    "# =========================\n",
    "filename = \"Models/final_model.pkl\"\n",
    "pickle.dump(best_model, open(filename, \"wb\"))\n",
    "print(f\"\\nFinal model saved as {filename}\")\n"
   ]
  },
  {
   "cell_type": "markdown",
   "id": "10f412db",
   "metadata": {},
   "source": [
    "### RandomizedSearchCV hyperparameter tuning \n"
   ]
  },
  {
   "cell_type": "code",
   "execution_count": 15,
   "id": "42199555",
   "metadata": {},
   "outputs": [
    {
     "name": "stdout",
     "output_type": "stream",
     "text": [
      "Baseline SVM Accuracy: 0.9344\n",
      "Fitting 5 folds for each of 20 candidates, totalling 100 fits\n",
      "Best parameters found:\n",
      "classifier__C: 0.30584494295802445\n",
      "classifier__gamma: auto\n",
      "classifier__kernel: rbf\n",
      "\n",
      "Test Score (RandomizedSearch) = 0.9180\n"
     ]
    },
    {
     "data": {
      "image/png": "[encoded data removed]",
      "text/plain": [
       "<Figure size 600x500 with 2 Axes>"
      ]
     },
     "metadata": {},
     "output_type": "display_data"
    },
    {
     "name": "stdout",
     "output_type": "stream",
     "text": [
      "              precision    recall  f1-score   support\n",
      "\n",
      "           0       0.88      0.97      0.92        29\n",
      "           1       0.97      0.88      0.92        32\n",
      "\n",
      "    accuracy                           0.92        61\n",
      "   macro avg       0.92      0.92      0.92        61\n",
      "weighted avg       0.92      0.92      0.92        61\n",
      "\n",
      "\n",
      "Final retrained model accuracy on test set: 0.9180\n"
     ]
    }
   ],
   "source": [
    "# Train baseline SVM on pre-scaled data\n",
    "baseline_svm = SVC(random_state=42, probability=True)\n",
    "baseline_svm.fit(X_train_scaled, y_train)\n",
    "\n",
    "# Predict and evaluate baseline\n",
    "y_pred_baseline = baseline_svm.predict(X_test_scaled)\n",
    "baseline_acc = accuracy_score(y_test, y_pred_baseline)\n",
    "print(f\"Baseline SVM Accuracy: {baseline_acc:.4f}\")\n",
    "\n",
    "# Define pipeline without scaler (already scaled)\n",
    "pipe = Pipeline([\n",
    "    ('classifier', SVC(probability=True))\n",
    "])\n",
    "\n",
    "# Parameter distribution for RandomizedSearch\n",
    "params_dist = {\n",
    "    'classifier__C': uniform(0.1, 10),\n",
    "    'classifier__kernel': ['linear', 'rbf'],\n",
    "    'classifier__gamma': ['scale', 'auto']\n",
    "}\n",
    "\n",
    "# Cross-validation strategy\n",
    "seed = 42\n",
    "cv = StratifiedKFold(n_splits=5, shuffle=True, random_state=seed)\n",
    "\n",
    "# RandomizedSearchCV setup\n",
    "random_search = RandomizedSearchCV(\n",
    "    estimator=pipe,\n",
    "    param_distributions=params_dist,\n",
    "    n_iter=20,\n",
    "    scoring='accuracy',\n",
    "    cv=cv,\n",
    "    n_jobs=-1,\n",
    "    verbose=1,\n",
    "    random_state=seed\n",
    ")\n",
    "\n",
    "# Fit randomized search on training data\n",
    "random_search.fit(X_train_scaled, y_train)\n",
    "\n",
    "# Predict and evaluate tuned model\n",
    "y_pred = random_search.predict(X_test_scaled)\n",
    "test_score = random_search.score(X_test_scaled, y_test)\n",
    "\n",
    "# Print best hyperparameters and test score\n",
    "print(\"Best parameters found:\")\n",
    "for key, value in random_search.best_params_.items():\n",
    "    print(f\"{key}: {value}\")\n",
    "\n",
    "print(f\"\\nTest Score (RandomizedSearch) = {test_score:.4f}\")\n",
    "\n",
    "# Confusion matrix plot\n",
    "conf_matrix = confusion_matrix(y_test, y_pred)\n",
    "plt.figure(figsize=(6, 5))\n",
    "sns.heatmap(conf_matrix, annot=True, cmap='Blues', fmt='d')\n",
    "plt.title('Confusion Matrix of Tuned SVM (Randomized Search)')\n",
    "plt.xlabel('Predicted')\n",
    "plt.ylabel('Actual')\n",
    "plt.tight_layout()\n",
    "plt.show()\n",
    "\n",
    "# Classification report\n",
    "print(classification_report(y_test, y_pred))\n",
    "\n",
    "# Retrain best model on full training data (optional but recommended)\n",
    "best_final_svm = random_search.best_estimator_\n",
    "best_final_svm.fit(X_train_scaled, y_train)\n",
    "final_pred = best_final_svm.predict(X_test_scaled)\n",
    "final_acc = accuracy_score(y_test, final_pred)\n",
    "print(f\"\\nFinal retrained model accuracy on test set: {final_acc:.4f}\")\n"
   ]
  }
 ],
 "metadata": {
  "kernelspec": {
   "display_name": "Python 3",
   "language": "python",
   "name": "python3"
  },
  "language_info": {
   "codemirror_mode": {
    "name": "ipython",
    "version": 3
   },
   "file_extension": ".py",
   "mimetype": "text/x-python",
   "name": "python",
   "nbconvert_exporter": "python",
   "pygments_lexer": "ipython3",
   "version": "3.11.2"
  }
 },
 "nbformat": 4,
 "nbformat_minor": 5
}
